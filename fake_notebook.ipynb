{
  "nbformat": 4,
  "nbformat_minor": 0,
  "metadata": {
    "colab": {
      "name": "fake_notebook.ipynb",
      "provenance": [],
      "authorship_tag": "ABX9TyOVQS/xN1jZEqfODMjK4NtR",
      "include_colab_link": true
    },
    "kernelspec": {
      "name": "python3",
      "display_name": "Python 3"
    },
    "language_info": {
      "name": "python"
    }
  },
  "cells": [
    {
      "cell_type": "markdown",
      "metadata": {
        "id": "view-in-github",
        "colab_type": "text"
      },
      "source": [
        "<a href=\"https://colab.research.google.com/github/L12161/some_useful_colab_stuff/blob/main/fake_notebook.ipynb\" target=\"_parent\"><img src=\"https://colab.research.google.com/assets/colab-badge.svg\" alt=\"Open In Colab\"/></a>"
      ]
    },
    {
      "cell_type": "markdown",
      "source": [
        "# MOUNT ANOTHER DRIVE "
      ],
      "metadata": {
        "id": "7QnsEC633ir9"
      }
    },
    {
      "cell_type": "code",
      "execution_count": null,
      "metadata": {
        "id": "UqCgi1Ki3CXk"
      },
      "outputs": [],
      "source": [
        "# Mount Drive\n",
        "'''\n",
        "If normal google drive mount doesn;t work, and you need to mount drive of another account from your trusty old google account, use this spell. \n",
        "You'll need to auth twice here, idk why tho. \n",
        "'''\n",
        "!apt-get install -y -qq software-properties-common python-software-properties module-init-tools\n",
        "!add-apt-repository -y ppa:alessandro-strada/ppa 2>&1 > /dev/null\n",
        "!apt-get update -qq 2>&1 > /dev/null\n",
        "!apt-get -y install -qq google-drive-ocamlfuse fuse\n",
        "from google.colab import auth\n",
        "auth.authenticate_user()\n",
        "from oauth2client.client import GoogleCredentials\n",
        "creds = GoogleCredentials.get_application_default()\n",
        "import getpass\n",
        "!google-drive-ocamlfuse -headless -id={creds.client_id} -secret={creds.client_secret} < /dev/null 2>&1 | grep URL\n",
        "vcode = getpass.getpass()\n",
        "!echo {vcode} | google-drive-ocamlfuse -headless -id={creds.client_id} -secret={creds.client_secret}\n",
        "%cd /content\n",
        "!mkdir drive\n",
        "%cd drive\n",
        "!mkdir MyDrive\n",
        "%cd ..\n",
        "%cd ..\n",
        "!google-drive-ocamlfuse /content/drive/MyDrive"
      ]
    },
    {
      "cell_type": "markdown",
      "source": [
        "# CHECK A FOLDERS SIZE "
      ],
      "metadata": {
        "id": "V5RQFJO03mVl"
      }
    },
    {
      "cell_type": "code",
      "source": [
        "'''\n",
        "Here, you can check the size of a target directory. The output formates and parameters are all \n",
        "really self explanatory\n",
        "\n",
        "'''\n",
        "\n",
        "#@title Input directory and unit of measurement\n",
        "\n",
        "# Credit:\n",
        "# https://stackoverflow.com/a/1392549\n",
        "\n",
        "import os\n",
        "\n",
        "def get_size(start_path = '.', unit='MB'):\n",
        "    total_size = 0\n",
        "    for dirpath, dirnames, filenames in os.walk(start_path):\n",
        "        for f in filenames:\n",
        "            fp = os.path.join(dirpath, f)\n",
        "            # skip if it is symbolic link\n",
        "            if not os.path.islink(fp):\n",
        "                total_size += os.path.getsize(fp)\n",
        "\n",
        "    if unit == 'MB':\n",
        "      total_size *= 1e-6\n",
        "    elif unit == 'GB':\n",
        "      total_size *= 1e-9\n",
        "    elif unit == 'TB':\n",
        "      total_size *= 1e-12\n",
        "\n",
        "    return total_size\n",
        "\n",
        "target_dir = '/content/data' #@param {type: 'string'}\n",
        "output_unit = 'GB' #@param ['MB', 'GB', 'TB']\n",
        "\n",
        "dir_size = round(get_size(target_dir, output_unit), 2)\n",
        "print('Target directory:', target_dir)\n",
        "print('Directory size is', dir_size, output_unit)"
      ],
      "metadata": {
        "id": "-jOtEEQt3c5m"
      },
      "execution_count": null,
      "outputs": []
    },
    {
      "cell_type": "markdown",
      "source": [
        "# MOVE A FOLDER OR FILE TO ANOTHER PLACE"
      ],
      "metadata": {
        "id": "UMo66uNA32C1"
      }
    },
    {
      "cell_type": "code",
      "source": [
        "import shutil\n",
        "SOURCE_PATH = ''\n",
        "DESTINATION_PATH = ''\n",
        "shutil.move(SOURCE_PATH, DESTINATION_PATH)"
      ],
      "metadata": {
        "id": "seGoIK3L4Fpq"
      },
      "execution_count": null,
      "outputs": []
    },
    {
      "cell_type": "markdown",
      "source": [
        "# BLANK"
      ],
      "metadata": {
        "id": "o9Cqpdfi4P-V"
      }
    },
    {
      "cell_type": "code",
      "source": [
        "FINAL_COMPRESSED_FILE = '' # MUST HAVE A .ZIP AT THE END\n",
        "FILE_TO_COMPRESS = ''\n",
        "\n",
        "# .ZIP COMPRESSION\n",
        "!zip FINAL_COMPRESSED_FILE FILE_TO_COMPRESS\n",
        "\n",
        "# RAR COMPRESSION\n",
        "!apt-get install rar\n",
        "# !rar a -p FINAL_COMPRESSED_FILE FILE_TO_COMPRESS  \n",
        "# -P FOR PASWORD PROTECTION\n",
        "!rar a FINAL_COMPRESSED_FILE FILE_TO_COMPRESS  \n",
        "\n",
        "# TO UNZIP OR UNRAR, REPLACE THE !zip AND !rar with !unzip and !unrar "
      ],
      "metadata": {
        "id": "vuuyEmof4PVN"
      },
      "execution_count": null,
      "outputs": []
    },
    {
      "cell_type": "markdown",
      "source": [
        "# New section"
      ],
      "metadata": {
        "id": "VH_NNWL-526E"
      }
    },
    {
      "cell_type": "code",
      "source": [
        ""
      ],
      "metadata": {
        "id": "UFAfC0H453yz"
      },
      "execution_count": null,
      "outputs": []
    }
  ]
}